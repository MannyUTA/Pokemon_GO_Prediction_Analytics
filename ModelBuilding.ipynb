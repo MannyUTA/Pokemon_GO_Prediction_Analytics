{
 "cells": [
  {
   "cell_type": "code",
   "execution_count": 1,
   "metadata": {
    "collapsed": false
   },
   "outputs": [],
   "source": [
    "from sklearn.linear_model import LinearRegression, Ridge\n",
    "from datetime import datetime\n",
    "from pandas.stats.api import ols\n",
    "import pandas as pd\n",
    "import numpy as np\n",
    "import statsmodels.api as sm"
   ]
  },
  {
   "cell_type": "code",
   "execution_count": 123,
   "metadata": {
    "collapsed": true
   },
   "outputs": [],
   "source": [
    "df =pd.read_csv('data.csv')\n",
    "array = np.asarray(df)"
   ]
  },
  {
   "cell_type": "code",
   "execution_count": 134,
   "metadata": {
    "collapsed": false
   },
   "outputs": [],
   "source": [
    "x = df.describe()"
   ]
  },
  {
   "cell_type": "code",
   "execution_count": 137,
   "metadata": {
    "collapsed": false
   },
   "outputs": [
    {
     "name": "stdout",
     "output_type": "stream",
     "text": [
      "       android_avg_rating  android_file_size  android_rating_1  \\\n",
      "count        14810.000000       14810.000000      14810.000000   \n",
      "mean             4.040074          55.912154     720337.732208   \n",
      "std              0.177924          26.105101     229050.372204   \n",
      "min              0.000000           0.000000          0.000000   \n",
      "25%              4.000000          58.000000     627242.000000   \n",
      "50%              4.100000          61.000000     752846.000000   \n",
      "75%              4.100000          76.000000     909636.000000   \n",
      "max              4.100000          77.000000     982631.000000   \n",
      "\n",
      "       android_rating_2  android_rating_3  android_rating_4  android_rating_5  \\\n",
      "count      14810.000000      14810.000000      14810.000000      1.481000e+04   \n",
      "mean      220940.611209     406204.605199     650649.112154      3.274879e+06   \n",
      "std        62104.040636     120682.713630     203898.888126      1.091526e+06   \n",
      "min            0.000000          0.000000          0.000000      0.000000e+00   \n",
      "25%       204299.000000     373913.000000     596010.000000      2.977746e+06   \n",
      "50%       240452.000000     447650.000000     716201.000000      3.633064e+06   \n",
      "75%       267621.000000     496153.000000     804331.000000      4.099775e+06   \n",
      "max       285115.000000     528687.000000     856213.000000      4.352574e+06   \n",
      "\n",
      "       android_total_ratings  ios_all_ratings  ios_current_ratings  \\\n",
      "count           1.481000e+04     14810.000000         14810.000000   \n",
      "mean            5.277365e+06    202859.866036          7048.311411   \n",
      "std             1.695682e+06     33352.105141          8911.959360   \n",
      "min             1.281802e+06    106508.000000             0.000000   \n",
      "25%             4.779210e+06    201533.000000          1662.000000   \n",
      "50%             5.790213e+06    215355.000000          3457.000000   \n",
      "75%             6.577516e+06    223336.000000          9166.000000   \n",
      "max             7.005220e+06    230601.000000         46692.000000   \n",
      "\n",
      "       ios_file_size  \n",
      "count   14810.000000  \n",
      "mean      196.718096  \n",
      "std        67.164680  \n",
      "min       104.000000  \n",
      "25%       110.000000  \n",
      "50%       211.000000  \n",
      "75%       258.000000  \n",
      "max       260.000000  \n"
     ]
    }
   ],
   "source": [
    "import pickle\n",
    "with open('data.pickle','r') as f:\n",
    "    data = pickle.load(f)\n",
    "\n",
    "df = pd.DataFrame(data)\n",
    "df_t = df.transpose()\n",
    "print df_t.describe()"
   ]
  },
  {
   "cell_type": "code",
   "execution_count": 295,
   "metadata": {
    "collapsed": false
   },
   "outputs": [
    {
     "name": "stdout",
     "output_type": "stream",
     "text": [
      "2016-07-21 00:00:00\n"
     ]
    }
   ],
   "source": [
    "print df['Unnamed: 0'][0]"
   ]
  },
  {
   "cell_type": "code",
   "execution_count": 26,
   "metadata": {
    "collapsed": false
   },
   "outputs": [
    {
     "data": {
      "text/html": [
       "<div>\n",
       "<table border=\"1\" class=\"dataframe\">\n",
       "  <thead>\n",
       "    <tr style=\"text-align: right;\">\n",
       "      <th></th>\n",
       "      <th>android_avg_rating</th>\n",
       "      <th>android_file_size</th>\n",
       "      <th>android_rating_1</th>\n",
       "      <th>android_rating_2</th>\n",
       "      <th>android_rating_3</th>\n",
       "      <th>android_rating_4</th>\n",
       "      <th>android_rating_5</th>\n",
       "      <th>android_total_ratings</th>\n",
       "      <th>ios_all_ratings</th>\n",
       "      <th>ios_current_ratings</th>\n",
       "      <th>ios_file_size</th>\n",
       "    </tr>\n",
       "  </thead>\n",
       "  <tbody>\n",
       "    <tr>\n",
       "      <th>count</th>\n",
       "      <td>14810.000000</td>\n",
       "      <td>14810.000000</td>\n",
       "      <td>14810.000000</td>\n",
       "      <td>14810.000000</td>\n",
       "      <td>14810.000000</td>\n",
       "      <td>14810.000000</td>\n",
       "      <td>1.481000e+04</td>\n",
       "      <td>1.481000e+04</td>\n",
       "      <td>14810.000000</td>\n",
       "      <td>14810.000000</td>\n",
       "      <td>14810.000000</td>\n",
       "    </tr>\n",
       "    <tr>\n",
       "      <th>mean</th>\n",
       "      <td>4.046550</td>\n",
       "      <td>67.963606</td>\n",
       "      <td>720981.584267</td>\n",
       "      <td>221147.901958</td>\n",
       "      <td>406554.456111</td>\n",
       "      <td>651182.477583</td>\n",
       "      <td>3.277482e+06</td>\n",
       "      <td>5.277365e+06</td>\n",
       "      <td>202859.866036</td>\n",
       "      <td>7424.409858</td>\n",
       "      <td>196.718096</td>\n",
       "    </tr>\n",
       "    <tr>\n",
       "      <th>std</th>\n",
       "      <td>0.071877</td>\n",
       "      <td>8.209934</td>\n",
       "      <td>227578.490699</td>\n",
       "      <td>61577.562465</td>\n",
       "      <td>119814.578100</td>\n",
       "      <td>202622.936471</td>\n",
       "      <td>1.085615e+06</td>\n",
       "      <td>1.695682e+06</td>\n",
       "      <td>33352.105141</td>\n",
       "      <td>9107.281048</td>\n",
       "      <td>67.164680</td>\n",
       "    </tr>\n",
       "    <tr>\n",
       "      <th>min</th>\n",
       "      <td>3.900000</td>\n",
       "      <td>0.000000</td>\n",
       "      <td>199974.000000</td>\n",
       "      <td>71521.000000</td>\n",
       "      <td>117754.000000</td>\n",
       "      <td>165956.000000</td>\n",
       "      <td>7.265970e+05</td>\n",
       "      <td>1.281802e+06</td>\n",
       "      <td>106508.000000</td>\n",
       "      <td>29.000000</td>\n",
       "      <td>104.000000</td>\n",
       "    </tr>\n",
       "    <tr>\n",
       "      <th>25%</th>\n",
       "      <td>4.000000</td>\n",
       "      <td>61.000000</td>\n",
       "      <td>627242.000000</td>\n",
       "      <td>204299.000000</td>\n",
       "      <td>373913.000000</td>\n",
       "      <td>596010.000000</td>\n",
       "      <td>2.977746e+06</td>\n",
       "      <td>4.779210e+06</td>\n",
       "      <td>201533.000000</td>\n",
       "      <td>1865.000000</td>\n",
       "      <td>110.000000</td>\n",
       "    </tr>\n",
       "    <tr>\n",
       "      <th>50%</th>\n",
       "      <td>4.100000</td>\n",
       "      <td>61.000000</td>\n",
       "      <td>752846.000000</td>\n",
       "      <td>240452.000000</td>\n",
       "      <td>447650.000000</td>\n",
       "      <td>716201.000000</td>\n",
       "      <td>3.633064e+06</td>\n",
       "      <td>5.790213e+06</td>\n",
       "      <td>215355.000000</td>\n",
       "      <td>3676.000000</td>\n",
       "      <td>211.000000</td>\n",
       "    </tr>\n",
       "    <tr>\n",
       "      <th>75%</th>\n",
       "      <td>4.100000</td>\n",
       "      <td>77.000000</td>\n",
       "      <td>909636.000000</td>\n",
       "      <td>267621.000000</td>\n",
       "      <td>496153.000000</td>\n",
       "      <td>804331.000000</td>\n",
       "      <td>4.099775e+06</td>\n",
       "      <td>6.577516e+06</td>\n",
       "      <td>223336.000000</td>\n",
       "      <td>9609.000000</td>\n",
       "      <td>258.000000</td>\n",
       "    </tr>\n",
       "    <tr>\n",
       "      <th>max</th>\n",
       "      <td>4.100000</td>\n",
       "      <td>77.000000</td>\n",
       "      <td>982631.000000</td>\n",
       "      <td>285115.000000</td>\n",
       "      <td>528687.000000</td>\n",
       "      <td>856213.000000</td>\n",
       "      <td>4.352574e+06</td>\n",
       "      <td>7.005220e+06</td>\n",
       "      <td>230601.000000</td>\n",
       "      <td>46692.000000</td>\n",
       "      <td>260.000000</td>\n",
       "    </tr>\n",
       "  </tbody>\n",
       "</table>\n",
       "</div>"
      ],
      "text/plain": [
       "       android_avg_rating  android_file_size  android_rating_1  \\\n",
       "count        14810.000000       14810.000000      14810.000000   \n",
       "mean             4.046550          67.963606     720981.584267   \n",
       "std              0.071877           8.209934     227578.490699   \n",
       "min              3.900000           0.000000     199974.000000   \n",
       "25%              4.000000          61.000000     627242.000000   \n",
       "50%              4.100000          61.000000     752846.000000   \n",
       "75%              4.100000          77.000000     909636.000000   \n",
       "max              4.100000          77.000000     982631.000000   \n",
       "\n",
       "       android_rating_2  android_rating_3  android_rating_4  android_rating_5  \\\n",
       "count      14810.000000      14810.000000      14810.000000      1.481000e+04   \n",
       "mean      221147.901958     406554.456111     651182.477583      3.277482e+06   \n",
       "std        61577.562465     119814.578100     202622.936471      1.085615e+06   \n",
       "min        71521.000000     117754.000000     165956.000000      7.265970e+05   \n",
       "25%       204299.000000     373913.000000     596010.000000      2.977746e+06   \n",
       "50%       240452.000000     447650.000000     716201.000000      3.633064e+06   \n",
       "75%       267621.000000     496153.000000     804331.000000      4.099775e+06   \n",
       "max       285115.000000     528687.000000     856213.000000      4.352574e+06   \n",
       "\n",
       "       android_total_ratings  ios_all_ratings  ios_current_ratings  \\\n",
       "count           1.481000e+04     14810.000000         14810.000000   \n",
       "mean            5.277365e+06    202859.866036          7424.409858   \n",
       "std             1.695682e+06     33352.105141          9107.281048   \n",
       "min             1.281802e+06    106508.000000            29.000000   \n",
       "25%             4.779210e+06    201533.000000          1865.000000   \n",
       "50%             5.790213e+06    215355.000000          3676.000000   \n",
       "75%             6.577516e+06    223336.000000          9609.000000   \n",
       "max             7.005220e+06    230601.000000         46692.000000   \n",
       "\n",
       "       ios_file_size  \n",
       "count   14810.000000  \n",
       "mean      196.718096  \n",
       "std        67.164680  \n",
       "min       104.000000  \n",
       "25%       110.000000  \n",
       "50%       211.000000  \n",
       "75%       258.000000  \n",
       "max       260.000000  "
      ]
     },
     "execution_count": 26,
     "metadata": {},
     "output_type": "execute_result"
    }
   ],
   "source": [
    "df.describe()"
   ]
  },
  {
   "cell_type": "code",
   "execution_count": 10,
   "metadata": {
    "collapsed": false
   },
   "outputs": [
    {
     "name": "stdout",
     "output_type": "stream",
     "text": [
      "Index([u'Unnamed: 0', u'android_avg_rating', u'android_file_size',\n",
      "       u'android_rating_1', u'android_rating_2', u'android_rating_3',\n",
      "       u'android_rating_4', u'android_rating_5', u'android_total_ratings',\n",
      "       u'ios_all_ratings', u'ios_current_ratings', u'ios_file_size'],\n",
      "      dtype='object')\n"
     ]
    }
   ],
   "source": [
    "print df.columns"
   ]
  },
  {
   "cell_type": "code",
   "execution_count": null,
   "metadata": {
    "collapsed": true
   },
   "outputs": [],
   "source": [
    "\n"
   ]
  },
  {
   "cell_type": "code",
   "execution_count": 3,
   "metadata": {
    "collapsed": true
   },
   "outputs": [],
   "source": [
    "lst = df[u'Unnamed: 0']"
   ]
  },
  {
   "cell_type": "code",
   "execution_count": null,
   "metadata": {
    "collapsed": false
   },
   "outputs": [],
   "source": []
  },
  {
   "cell_type": "code",
   "execution_count": 4,
   "metadata": {
    "collapsed": false
   },
   "outputs": [],
   "source": [
    "dates = []\n",
    "for a in lst:\n",
    "    dates.append(datetime.strptime(a, \"%Y-%m-%d %H:%M:%S\"))"
   ]
  },
  {
   "cell_type": "code",
   "execution_count": 5,
   "metadata": {
    "collapsed": false
   },
   "outputs": [],
   "source": [
    "time = []\n",
    "for date in dates:\n",
    "    time.append(((date- dates[0]).total_seconds())/60)\n",
    "p_time = ((datetime.strptime('2016/11/01 23:50:00', \"%Y/%m/%d %H:%M:%S\") - dates[0]).total_seconds())/60"
   ]
  },
  {
   "cell_type": "code",
   "execution_count": 6,
   "metadata": {
    "collapsed": false
   },
   "outputs": [
    {
     "name": "stdout",
     "output_type": "stream",
     "text": [
      "149750.0 148310.0\n"
     ]
    }
   ],
   "source": [
    "print p_time, time[-1]"
   ]
  },
  {
   "cell_type": "code",
   "execution_count": 119,
   "metadata": {
    "collapsed": false
   },
   "outputs": [
    {
     "data": {
      "text/html": [
       "<div>\n",
       "<table border=\"1\" class=\"dataframe\">\n",
       "  <thead>\n",
       "    <tr style=\"text-align: right;\">\n",
       "      <th></th>\n",
       "      <th>Time</th>\n",
       "      <th>android_rating_1</th>\n",
       "      <th>android_rating_2</th>\n",
       "      <th>android_rating_3</th>\n",
       "      <th>android_rating_4</th>\n",
       "      <th>android_rating_5</th>\n",
       "      <th>ios_current_ratings</th>\n",
       "    </tr>\n",
       "  </thead>\n",
       "  <tbody>\n",
       "    <tr>\n",
       "      <th>0</th>\n",
       "      <td>0.0</td>\n",
       "      <td>199974</td>\n",
       "      <td>71521</td>\n",
       "      <td>117754</td>\n",
       "      <td>165956</td>\n",
       "      <td>726597</td>\n",
       "      <td>4688</td>\n",
       "    </tr>\n",
       "    <tr>\n",
       "      <th>1</th>\n",
       "      <td>10.0</td>\n",
       "      <td>199974</td>\n",
       "      <td>71521</td>\n",
       "      <td>117754</td>\n",
       "      <td>165956</td>\n",
       "      <td>726597</td>\n",
       "      <td>4688</td>\n",
       "    </tr>\n",
       "    <tr>\n",
       "      <th>2</th>\n",
       "      <td>20.0</td>\n",
       "      <td>199974</td>\n",
       "      <td>71521</td>\n",
       "      <td>117754</td>\n",
       "      <td>165956</td>\n",
       "      <td>726597</td>\n",
       "      <td>4688</td>\n",
       "    </tr>\n",
       "    <tr>\n",
       "      <th>3</th>\n",
       "      <td>30.0</td>\n",
       "      <td>199974</td>\n",
       "      <td>71521</td>\n",
       "      <td>117754</td>\n",
       "      <td>165956</td>\n",
       "      <td>726597</td>\n",
       "      <td>4688</td>\n",
       "    </tr>\n",
       "    <tr>\n",
       "      <th>4</th>\n",
       "      <td>40.0</td>\n",
       "      <td>199974</td>\n",
       "      <td>71521</td>\n",
       "      <td>117754</td>\n",
       "      <td>165956</td>\n",
       "      <td>726597</td>\n",
       "      <td>4688</td>\n",
       "    </tr>\n",
       "  </tbody>\n",
       "</table>\n",
       "</div>"
      ],
      "text/plain": [
       "   Time  android_rating_1  android_rating_2  android_rating_3  \\\n",
       "0   0.0            199974             71521            117754   \n",
       "1  10.0            199974             71521            117754   \n",
       "2  20.0            199974             71521            117754   \n",
       "3  30.0            199974             71521            117754   \n",
       "4  40.0            199974             71521            117754   \n",
       "\n",
       "   android_rating_4  android_rating_5  ios_current_ratings  \n",
       "0            165956            726597                 4688  \n",
       "1            165956            726597                 4688  \n",
       "2            165956            726597                 4688  \n",
       "3            165956            726597                 4688  \n",
       "4            165956            726597                 4688  "
      ]
     },
     "execution_count": 119,
     "metadata": {},
     "output_type": "execute_result"
    }
   ],
   "source": [
    "col = df.copy()\n",
    "col.drop(labels=['android_total_ratings'], axis=1, inplace=True)\n",
    "\n",
    "col.drop(labels=['Unnamed: 0'], axis=1, inplace=True)\n",
    "col.drop(labels=['android_file_size'], axis=1, inplace=True)\n",
    "col.drop(labels=['android_avg_rating'], axis=1, inplace=True)\n",
    "#col.drop(labels=['android_rating_1'], axis=1, inplace=True)\n",
    "#col.drop(labels=['android_rating_2'], axis=1, inplace=True)\n",
    "#col.drop(labels=['android_rating_3'], axis=1, inplace=True)\n",
    "#col.drop(labels=['android_rating_4'], axis=1, inplace=True)\n",
    "#col.drop(labels=['android_rating_5'], axis=1, inplace=True)\n",
    "col.drop(labels=['ios_all_ratings'], axis=1, inplace=True)\n",
    "#col.drop(labels=['ios_current_ratings'], axis=1, inplace=True)\n",
    "col.drop(labels=['ios_file_size'], axis=1, inplace=True)\n",
    "\n",
    "y = df['ios_all_ratings']\n",
    "\n",
    "col.insert(loc=0, column='Time', value=time)\n",
    "col.head()"
   ]
  },
  {
   "cell_type": "code",
   "execution_count": 75,
   "metadata": {
    "collapsed": false
   },
   "outputs": [
    {
     "ename": "NameError",
     "evalue": "name 'LinearSVC' is not defined",
     "output_type": "error",
     "traceback": [
      "\u001b[1;31m---------------------------------------------------------------------------\u001b[0m",
      "\u001b[1;31mNameError\u001b[0m                                 Traceback (most recent call last)",
      "\u001b[1;32m<ipython-input-75-2e2c04395d18>\u001b[0m in \u001b[0;36m<module>\u001b[1;34m()\u001b[0m\n\u001b[0;32m      2\u001b[0m \u001b[0mX\u001b[0m\u001b[1;33m,\u001b[0m \u001b[0my\u001b[0m \u001b[1;33m=\u001b[0m \u001b[0mcol\u001b[0m\u001b[1;33m,\u001b[0m \u001b[0mdf\u001b[0m\u001b[1;33m[\u001b[0m\u001b[1;34m'android_total_ratings'\u001b[0m\u001b[1;33m]\u001b[0m\u001b[1;33m\u001b[0m\u001b[0m\n\u001b[0;32m      3\u001b[0m \u001b[0mX\u001b[0m\u001b[1;33m.\u001b[0m\u001b[0mshape\u001b[0m\u001b[1;33m\u001b[0m\u001b[0m\n\u001b[1;32m----> 4\u001b[1;33m \u001b[0mlsvc\u001b[0m \u001b[1;33m=\u001b[0m \u001b[0mLinearSVC\u001b[0m\u001b[1;33m(\u001b[0m\u001b[0mC\u001b[0m\u001b[1;33m=\u001b[0m\u001b[1;36m0.01\u001b[0m\u001b[1;33m,\u001b[0m \u001b[0mpenalty\u001b[0m\u001b[1;33m=\u001b[0m\u001b[1;34m\"l1\"\u001b[0m\u001b[1;33m,\u001b[0m \u001b[0mdual\u001b[0m\u001b[1;33m=\u001b[0m\u001b[0mFalse\u001b[0m\u001b[1;33m)\u001b[0m\u001b[1;33m.\u001b[0m\u001b[0mfit\u001b[0m\u001b[1;33m(\u001b[0m\u001b[0mX\u001b[0m\u001b[1;33m,\u001b[0m \u001b[0my\u001b[0m\u001b[1;33m)\u001b[0m\u001b[1;33m\u001b[0m\u001b[0m\n\u001b[0m\u001b[0;32m      5\u001b[0m \u001b[0mmodel\u001b[0m \u001b[1;33m=\u001b[0m \u001b[0mSelectFromModel\u001b[0m\u001b[1;33m(\u001b[0m\u001b[0mlsvc\u001b[0m\u001b[1;33m,\u001b[0m \u001b[0mprefit\u001b[0m\u001b[1;33m=\u001b[0m\u001b[0mTrue\u001b[0m\u001b[1;33m)\u001b[0m\u001b[1;33m\u001b[0m\u001b[0m\n\u001b[0;32m      6\u001b[0m \u001b[0mX_new\u001b[0m \u001b[1;33m=\u001b[0m \u001b[0mmodel\u001b[0m\u001b[1;33m.\u001b[0m\u001b[0mtransform\u001b[0m\u001b[1;33m(\u001b[0m\u001b[0mX\u001b[0m\u001b[1;33m)\u001b[0m\u001b[1;33m\u001b[0m\u001b[0m\n",
      "\u001b[1;31mNameError\u001b[0m: name 'LinearSVC' is not defined"
     ]
    }
   ],
   "source": [
    "\n",
    "X, y = col, df['android_total_ratings']\n",
    "X.shape\n",
    "lsvc = LinearSVC(C=0.01, penalty=\"l1\", dual=False).fit(X, y)\n",
    "model = SelectFromModel(lsvc, prefit=True)\n",
    "X_new = model.transform(X)\n",
    "X_new.shape\n"
   ]
  },
  {
   "cell_type": "code",
   "execution_count": 126,
   "metadata": {
    "collapsed": true
   },
   "outputs": [],
   "source": [
    "from sklearn.cross_validation import train_test_split"
   ]
  },
  {
   "cell_type": "code",
   "execution_count": 133,
   "metadata": {
    "collapsed": true
   },
   "outputs": [],
   "source": [
    "#X_train,X_test,y_train,y_test = train_test_split(np.asarray(time).reshape(-1,1),np.asarray(df['android_total_ratings']),test_size=0.2)"
   ]
  },
  {
   "cell_type": "code",
   "execution_count": 194,
   "metadata": {
    "collapsed": false
   },
   "outputs": [],
   "source": [
    "X_train,X_test,y_train,y_test = train_test_split(col,np.asarray(df['android_total_ratings']),test_size=0.2)"
   ]
  },
  {
   "cell_type": "code",
   "execution_count": 174,
   "metadata": {
    "collapsed": false
   },
   "outputs": [],
   "source": [
    "#X = np.asarray(time) \n",
    "#y = np.asarray(df['android_total_ratings'])\n"
   ]
  },
  {
   "cell_type": "code",
   "execution_count": 197,
   "metadata": {
    "collapsed": false
   },
   "outputs": [
    {
     "name": "stdout",
     "output_type": "stream",
     "text": [
      "0.999957828602\n"
     ]
    },
    {
     "data": {
      "image/png": "[encoded data removed]",
      "text/plain": [
       "<matplotlib.figure.Figure at 0xe44aa90>"
      ]
     },
     "metadata": {},
     "output_type": "display_data"
    }
   ],
   "source": [
    "from sklearn.linear_model import Ridge\n",
    "ridgereg = Ridge()\n",
    "ridgereg.fit(X_train,y_train)\n",
    "print ridgereg.score(X_train,y_train)\n",
    "y_pred = ridgereg.predict(X_train)\n",
    "plt.plot(X_train, ridgereg.predict(X_train), 'b', label=u'ŷ (alpha=0.0)')\n",
    "plt.show()"
   ]
  },
  {
   "cell_type": "code",
   "execution_count": 121,
   "metadata": {
    "collapsed": false
   },
   "outputs": [
    {
     "name": "stdout",
     "output_type": "stream",
     "text": [
      "-6.7856621931\n",
      "-82253330.4465\n",
      "[ 230028.7703823]\n"
     ]
    },
    {
     "name": "stderr",
     "output_type": "stream",
     "text": [
      "C:\\Users\\binoy\\Anaconda2\\lib\\site-packages\\ipykernel\\__main__.py:13: SettingWithCopyWarning: \n",
      "A value is trying to be set on a copy of a slice from a DataFrame.\n",
      "Try using .loc[row_indexer,col_indexer] = value instead\n",
      "\n",
      "See the caveats in the documentation: http://pandas.pydata.org/pandas-docs/stable/indexing.html#indexing-view-versus-copy\n"
     ]
    },
    {
     "data": {
      "image/png": "[encoded data removed]",
      "text/plain": [
       "<matplotlib.figure.Figure at 0x90266a0>"
      ]
     },
     "metadata": {},
     "output_type": "display_data"
    }
   ],
   "source": [
    "from sklearn.linear_model import Ridge\n",
    "from sklearn.cross_validation import  cross_val_score, cross_val_predict\n",
    "model = Ridge(alpha = 1)\n",
    "scoring1 = 'r2'\n",
    "\n",
    "results_r2 = cross_val_score(model, col, y, cv=10, scoring=scoring1)\n",
    "predicted = cross_val_predict(model, col, y, cv=10)\n",
    "print results_r2.mean()\n",
    "scoring2 = 'mean_squared_error'\n",
    "results_mse = cross_val_score(model, col, y, cv=10, scoring=scoring2)\n",
    "print results_mse.mean()\n",
    "lst = col.tail(1)\n",
    "lst['Time'] = p_time\n",
    "model.fit(col,y)\n",
    "pred = model.predict(lst)\n",
    "print pred\n",
    "fig, ax = plt.subplots()\n",
    "ax.scatter(y, predicted)\n",
    "ax.plot([y.min(), y.max()], [y.min(), y.max()], 'k--', lw=4)\n",
    "ax.set_xlabel('Measured')\n",
    "ax.set_ylabel('Predicted')\n",
    "plt.show()\n",
    "\n",
    "\n"
   ]
  },
  {
   "cell_type": "code",
   "execution_count": null,
   "metadata": {
    "collapsed": false
   },
   "outputs": [],
   "source": []
  },
  {
   "cell_type": "code",
   "execution_count": 118,
   "metadata": {
    "collapsed": false
   },
   "outputs": [
    {
     "name": "stdout",
     "output_type": "stream",
     "text": [
      "-23.6201038697\n",
      "-158590307.766\n"
     ]
    },
    {
     "name": "stderr",
     "output_type": "stream",
     "text": [
      "C:\\Users\\binoy\\Anaconda2\\lib\\site-packages\\ipykernel\\__main__.py:12: SettingWithCopyWarning: \n",
      "A value is trying to be set on a copy of a slice from a DataFrame.\n",
      "Try using .loc[row_indexer,col_indexer] = value instead\n",
      "\n",
      "See the caveats in the documentation: http://pandas.pydata.org/pandas-docs/stable/indexing.html#indexing-view-versus-copy\n"
     ]
    },
    {
     "name": "stdout",
     "output_type": "stream",
     "text": [
      "[ 225734.28462993]\n"
     ]
    },
    {
     "data": {
      "image/png": "[encoded data removed]",
      "text/plain": [
       "<matplotlib.figure.Figure at 0xc9b91d0>"
      ]
     },
     "metadata": {},
     "output_type": "display_data"
    }
   ],
   "source": [
    "from sklearn.linear_model import Lasso\n",
    "from sklearn.cross_validation import  cross_val_score, cross_val_predict\n",
    "model = Lasso(alpha = 0.001, normalize = True)\n",
    "scoring1 = 'r2'\n",
    "results_r2 = cross_val_score(model, col, y, cv=10, scoring=scoring1)\n",
    "predicted = cross_val_predict(model, col, y, cv=10)\n",
    "print results_r2.mean()\n",
    "scoring2 = 'mean_squared_error'\n",
    "results_mse = cross_val_score(model, col, y, cv=10, scoring=scoring2)\n",
    "print results_mse.mean()\n",
    "lst = col.tail(1)\n",
    "lst['Time'] = p_time\n",
    "model.fit(col,y)\n",
    "pred = model.predict(lst)\n",
    "print pred\n",
    "fig, ax = plt.subplots()\n",
    "ax.scatter(y, predicted)\n",
    "ax.plot([y.min(), y.max()], [y.min(), y.max()], 'k--', lw=4)\n",
    "ax.set_xlabel('Measured')\n",
    "ax.set_ylabel('Predicted')\n",
    "plt.show()"
   ]
  },
  {
   "cell_type": "code",
   "execution_count": 98,
   "metadata": {
    "collapsed": false
   },
   "outputs": [
    {
     "name": "stdout",
     "output_type": "stream",
     "text": [
      "-9.75592255516\n",
      "-193263084.64\n"
     ]
    },
    {
     "name": "stderr",
     "output_type": "stream",
     "text": [
      "C:\\Users\\binoy\\Anaconda2\\lib\\site-packages\\ipykernel\\__main__.py:12: SettingWithCopyWarning: \n",
      "A value is trying to be set on a copy of a slice from a DataFrame.\n",
      "Try using .loc[row_indexer,col_indexer] = value instead\n",
      "\n",
      "See the caveats in the documentation: http://pandas.pydata.org/pandas-docs/stable/indexing.html#indexing-view-versus-copy\n"
     ]
    },
    {
     "name": "stdout",
     "output_type": "stream",
     "text": [
      "[ 228943.54395738]\n"
     ]
    },
    {
     "data": {
      "image/png": "[encoded data removed]",
      "text/plain": [
       "<matplotlib.figure.Figure at 0xc9b91d0>"
      ]
     },
     "metadata": {},
     "output_type": "display_data"
    }
   ],
   "source": [
    "from sklearn.linear_model import LinearRegression\n",
    "from sklearn.cross_validation import  cross_val_score, cross_val_predict\n",
    "model = LinearRegression()\n",
    "scoring1 = 'r2'\n",
    "results_r2 = cross_val_score(model, col, y, cv=10, scoring=scoring1)\n",
    "predicted = cross_val_predict(model, col, y, cv=10)\n",
    "print results_r2.mean()\n",
    "scoring2 = 'mean_squared_error'\n",
    "results_mse = cross_val_score(model, col, y, cv=10, scoring=scoring2)\n",
    "print results_mse.mean()\n",
    "lst = col.tail(1)\n",
    "lst['Time'] = p_time\n",
    "model.fit(col,y)\n",
    "pred = model.predict(lst)\n",
    "print pred\n",
    "fig, ax = plt.subplots()\n",
    "ax.scatter(y, predicted)\n",
    "ax.plot([y.min(), y.max()], [y.min(), y.max()], 'k--', lw=4)\n",
    "ax.set_xlabel('Measured')\n",
    "ax.set_ylabel('Predicted')\n",
    "plt.show()"
   ]
  },
  {
   "cell_type": "code",
   "execution_count": 201,
   "metadata": {
    "collapsed": false
   },
   "outputs": [
    {
     "name": "stdout",
     "output_type": "stream",
     "text": [
      "0.17.1\n"
     ]
    }
   ],
   "source": [
    "import sklearn\n",
    "print(sklearn.__version__)"
   ]
  },
  {
   "cell_type": "code",
   "execution_count": 99,
   "metadata": {
    "collapsed": false
   },
   "outputs": [
    {
     "name": "stdout",
     "output_type": "stream",
     "text": [
      "-10.3055207011\n",
      "-190156185.244\n",
      "[ 228364.25508507]\n"
     ]
    },
    {
     "name": "stderr",
     "output_type": "stream",
     "text": [
      "C:\\Users\\binoy\\Anaconda2\\lib\\site-packages\\ipykernel\\__main__.py:14: SettingWithCopyWarning: \n",
      "A value is trying to be set on a copy of a slice from a DataFrame.\n",
      "Try using .loc[row_indexer,col_indexer] = value instead\n",
      "\n",
      "See the caveats in the documentation: http://pandas.pydata.org/pandas-docs/stable/indexing.html#indexing-view-versus-copy\n"
     ]
    },
    {
     "data": {
      "image/png": "[encoded data removed]",
      "text/plain": [
       "<matplotlib.figure.Figure at 0xcba93c8>"
      ]
     },
     "metadata": {},
     "output_type": "display_data"
    }
   ],
   "source": [
    "from sklearn.cross_validation import  cross_val_score\n",
    "from sklearn.linear_model import ElasticNet\n",
    "\n",
    "seed =7\n",
    "model = ElasticNet(alpha =1000,fit_intercept= True,l1_ratio=0.7)\n",
    "scoring1 = 'r2'\n",
    "results_r2 = cross_val_score(model, col, y, cv=10, scoring=scoring1)\n",
    "predicted = cross_val_predict(model, col, y, cv=10)\n",
    "print results_r2.mean()\n",
    "scoring2 = 'mean_squared_error'\n",
    "results_mse = cross_val_score(model, col, y, cv=10, scoring=scoring2)\n",
    "print results_mse.mean()\n",
    "lst = col.tail(1)\n",
    "lst['Time'] = p_time\n",
    "model.fit(col,y)\n",
    "pred = model.predict(lst)\n",
    "print pred\n",
    "fig, ax = plt.subplots()\n",
    "ax.scatter(y, predicted)\n",
    "ax.plot([y.min(), y.max()], [y.min(), y.max()], 'k--', lw=4)\n",
    "ax.set_xlabel('Measured')\n",
    "ax.set_ylabel('Predicted')\n",
    "plt.show()"
   ]
  },
  {
   "cell_type": "code",
   "execution_count": 84,
   "metadata": {
    "collapsed": false
   },
   "outputs": [
    {
     "ename": "NameError",
     "evalue": "name 'ridgereg' is not defined",
     "output_type": "error",
     "traceback": [
      "\u001b[1;31m---------------------------------------------------------------------------\u001b[0m",
      "\u001b[1;31mNameError\u001b[0m                                 Traceback (most recent call last)",
      "\u001b[1;32m<ipython-input-84-2f010328932a>\u001b[0m in \u001b[0;36m<module>\u001b[1;34m()\u001b[0m\n\u001b[1;32m----> 1\u001b[1;33m \u001b[1;32mprint\u001b[0m\u001b[1;33m(\u001b[0m\u001b[1;34m'Variance score: %.2f'\u001b[0m \u001b[1;33m%\u001b[0m \u001b[0mridgereg\u001b[0m\u001b[1;33m.\u001b[0m\u001b[0mscore\u001b[0m\u001b[1;33m(\u001b[0m\u001b[0mX_train\u001b[0m\u001b[1;33m,\u001b[0m \u001b[0my_train\u001b[0m\u001b[1;33m)\u001b[0m\u001b[1;33m)\u001b[0m\u001b[1;33m\u001b[0m\u001b[0m\n\u001b[0m",
      "\u001b[1;31mNameError\u001b[0m: name 'ridgereg' is not defined"
     ]
    }
   ],
   "source": [
    "print('Variance score: %.2f' % ridgereg.score(X_train, y_train))"
   ]
  },
  {
   "cell_type": "code",
   "execution_count": null,
   "metadata": {
    "collapsed": false
   },
   "outputs": [],
   "source": []
  },
  {
   "cell_type": "code",
   "execution_count": 179,
   "metadata": {
    "collapsed": false
   },
   "outputs": [
    {
     "data": {
      "text/plain": [
       "LinearRegression(copy_X=True, fit_intercept=True, n_jobs=1, normalize=False)"
      ]
     },
     "execution_count": 179,
     "metadata": {},
     "output_type": "execute_result"
    }
   ],
   "source": [
    "model = LinearRegression()\n",
    "model.fit(X_train, y_train)\n"
   ]
  },
  {
   "cell_type": "code",
   "execution_count": 180,
   "metadata": {
    "collapsed": false
   },
   "outputs": [
    {
     "name": "stdout",
     "output_type": "stream",
     "text": [
      "Variance score: 1.00\n"
     ]
    }
   ],
   "source": [
    "print('Variance score: %.2f' % model.score(X_test, y_test))"
   ]
  },
  {
   "cell_type": "code",
   "execution_count": 21,
   "metadata": {
    "collapsed": true
   },
   "outputs": [],
   "source": [
    "import matplotlib.pyplot as plt\n"
   ]
  },
  {
   "cell_type": "code",
   "execution_count": 181,
   "metadata": {
    "collapsed": false
   },
   "outputs": [
    {
     "ename": "ValueError",
     "evalue": "x and y must be the same size",
     "output_type": "error",
     "traceback": [
      "\u001b[1;31m---------------------------------------------------------------------------\u001b[0m",
      "\u001b[1;31mValueError\u001b[0m                                Traceback (most recent call last)",
      "\u001b[1;32m<ipython-input-181-169f8d615ba7>\u001b[0m in \u001b[0;36m<module>\u001b[1;34m()\u001b[0m\n\u001b[0;32m      1\u001b[0m \u001b[1;32mimport\u001b[0m \u001b[0mmatplotlib\u001b[0m\u001b[1;33m.\u001b[0m\u001b[0mpyplot\u001b[0m \u001b[1;32mas\u001b[0m \u001b[0mplt\u001b[0m\u001b[1;33m\u001b[0m\u001b[0m\n\u001b[1;32m----> 2\u001b[1;33m \u001b[0mplt\u001b[0m\u001b[1;33m.\u001b[0m\u001b[0mscatter\u001b[0m\u001b[1;33m(\u001b[0m\u001b[0mX_test\u001b[0m\u001b[1;33m,\u001b[0m \u001b[0my_test\u001b[0m\u001b[1;33m,\u001b[0m  \u001b[0mcolor\u001b[0m\u001b[1;33m=\u001b[0m\u001b[1;34m'black'\u001b[0m\u001b[1;33m)\u001b[0m\u001b[1;33m\u001b[0m\u001b[0m\n\u001b[0m\u001b[0;32m      3\u001b[0m plt.plot(X_test, model.predict(X_test), color='blue',\n\u001b[0;32m      4\u001b[0m          linewidth=3)\n\u001b[0;32m      5\u001b[0m \u001b[1;33m\u001b[0m\u001b[0m\n",
      "\u001b[1;32mC:\\Users\\binoy\\Anaconda2\\lib\\site-packages\\matplotlib\\pyplot.pyc\u001b[0m in \u001b[0;36mscatter\u001b[1;34m(x, y, s, c, marker, cmap, norm, vmin, vmax, alpha, linewidths, verts, edgecolors, hold, data, **kwargs)\u001b[0m\n\u001b[0;32m   3256\u001b[0m                          \u001b[0mvmin\u001b[0m\u001b[1;33m=\u001b[0m\u001b[0mvmin\u001b[0m\u001b[1;33m,\u001b[0m \u001b[0mvmax\u001b[0m\u001b[1;33m=\u001b[0m\u001b[0mvmax\u001b[0m\u001b[1;33m,\u001b[0m \u001b[0malpha\u001b[0m\u001b[1;33m=\u001b[0m\u001b[0malpha\u001b[0m\u001b[1;33m,\u001b[0m\u001b[1;33m\u001b[0m\u001b[0m\n\u001b[0;32m   3257\u001b[0m                          \u001b[0mlinewidths\u001b[0m\u001b[1;33m=\u001b[0m\u001b[0mlinewidths\u001b[0m\u001b[1;33m,\u001b[0m \u001b[0mverts\u001b[0m\u001b[1;33m=\u001b[0m\u001b[0mverts\u001b[0m\u001b[1;33m,\u001b[0m\u001b[1;33m\u001b[0m\u001b[0m\n\u001b[1;32m-> 3258\u001b[1;33m                          edgecolors=edgecolors, data=data, **kwargs)\n\u001b[0m\u001b[0;32m   3259\u001b[0m     \u001b[1;32mfinally\u001b[0m\u001b[1;33m:\u001b[0m\u001b[1;33m\u001b[0m\u001b[0m\n\u001b[0;32m   3260\u001b[0m         \u001b[0max\u001b[0m\u001b[1;33m.\u001b[0m\u001b[0mhold\u001b[0m\u001b[1;33m(\u001b[0m\u001b[0mwashold\u001b[0m\u001b[1;33m)\u001b[0m\u001b[1;33m\u001b[0m\u001b[0m\n",
      "\u001b[1;32mC:\\Users\\binoy\\Anaconda2\\lib\\site-packages\\matplotlib\\__init__.pyc\u001b[0m in \u001b[0;36minner\u001b[1;34m(ax, *args, **kwargs)\u001b[0m\n\u001b[0;32m   1816\u001b[0m                     warnings.warn(msg % (label_namer, func.__name__),\n\u001b[0;32m   1817\u001b[0m                                   RuntimeWarning, stacklevel=2)\n\u001b[1;32m-> 1818\u001b[1;33m             \u001b[1;32mreturn\u001b[0m \u001b[0mfunc\u001b[0m\u001b[1;33m(\u001b[0m\u001b[0max\u001b[0m\u001b[1;33m,\u001b[0m \u001b[1;33m*\u001b[0m\u001b[0margs\u001b[0m\u001b[1;33m,\u001b[0m \u001b[1;33m**\u001b[0m\u001b[0mkwargs\u001b[0m\u001b[1;33m)\u001b[0m\u001b[1;33m\u001b[0m\u001b[0m\n\u001b[0m\u001b[0;32m   1819\u001b[0m         \u001b[0mpre_doc\u001b[0m \u001b[1;33m=\u001b[0m \u001b[0minner\u001b[0m\u001b[1;33m.\u001b[0m\u001b[0m__doc__\u001b[0m\u001b[1;33m\u001b[0m\u001b[0m\n\u001b[0;32m   1820\u001b[0m         \u001b[1;32mif\u001b[0m \u001b[0mpre_doc\u001b[0m \u001b[1;32mis\u001b[0m \u001b[0mNone\u001b[0m\u001b[1;33m:\u001b[0m\u001b[1;33m\u001b[0m\u001b[0m\n",
      "\u001b[1;32mC:\\Users\\binoy\\Anaconda2\\lib\\site-packages\\matplotlib\\axes\\_axes.pyc\u001b[0m in \u001b[0;36mscatter\u001b[1;34m(self, x, y, s, c, marker, cmap, norm, vmin, vmax, alpha, linewidths, verts, edgecolors, **kwargs)\u001b[0m\n\u001b[0;32m   3808\u001b[0m         \u001b[0my\u001b[0m \u001b[1;33m=\u001b[0m \u001b[0mnp\u001b[0m\u001b[1;33m.\u001b[0m\u001b[0mma\u001b[0m\u001b[1;33m.\u001b[0m\u001b[0mravel\u001b[0m\u001b[1;33m(\u001b[0m\u001b[0my\u001b[0m\u001b[1;33m)\u001b[0m\u001b[1;33m\u001b[0m\u001b[0m\n\u001b[0;32m   3809\u001b[0m         \u001b[1;32mif\u001b[0m \u001b[0mx\u001b[0m\u001b[1;33m.\u001b[0m\u001b[0msize\u001b[0m \u001b[1;33m!=\u001b[0m \u001b[0my\u001b[0m\u001b[1;33m.\u001b[0m\u001b[0msize\u001b[0m\u001b[1;33m:\u001b[0m\u001b[1;33m\u001b[0m\u001b[0m\n\u001b[1;32m-> 3810\u001b[1;33m             \u001b[1;32mraise\u001b[0m \u001b[0mValueError\u001b[0m\u001b[1;33m(\u001b[0m\u001b[1;34m\"x and y must be the same size\"\u001b[0m\u001b[1;33m)\u001b[0m\u001b[1;33m\u001b[0m\u001b[0m\n\u001b[0m\u001b[0;32m   3811\u001b[0m \u001b[1;33m\u001b[0m\u001b[0m\n\u001b[0;32m   3812\u001b[0m         \u001b[0ms\u001b[0m \u001b[1;33m=\u001b[0m \u001b[0mnp\u001b[0m\u001b[1;33m.\u001b[0m\u001b[0mma\u001b[0m\u001b[1;33m.\u001b[0m\u001b[0mravel\u001b[0m\u001b[1;33m(\u001b[0m\u001b[0ms\u001b[0m\u001b[1;33m)\u001b[0m  \u001b[1;31m# This doesn't have to match x, y in size.\u001b[0m\u001b[1;33m\u001b[0m\u001b[0m\n",
      "\u001b[1;31mValueError\u001b[0m: x and y must be the same size"
     ]
    }
   ],
   "source": [
    "plt.scatter(X_test, y_test,  color='black')\n",
    "plt.plot(X_test, model.predict(X_test), color='blue',\n",
    "         linewidth=3)\n",
    "\n",
    "plt.xticks(())\n",
    "plt.yticks(())\n",
    "\n",
    "plt.show()"
   ]
  },
  {
   "cell_type": "code",
   "execution_count": null,
   "metadata": {
    "collapsed": false
   },
   "outputs": [],
   "source": []
  },
  {
   "cell_type": "code",
   "execution_count": null,
   "metadata": {
    "collapsed": true
   },
   "outputs": [],
   "source": []
  }
 ],
 "metadata": {
  "anaconda-cloud": {},
  "kernelspec": {
   "display_name": "Python [default]",
   "language": "python",
   "name": "python2"
  },
  "language_info": {
   "codemirror_mode": {
    "name": "ipython",
    "version": 2
   },
   "file_extension": ".py",
   "mimetype": "text/x-python",
   "name": "python",
   "nbconvert_exporter": "python",
   "pygments_lexer": "ipython2",
   "version": "2.7.12"
  }
 },
 "nbformat": 4,
 "nbformat_minor": 1
}
